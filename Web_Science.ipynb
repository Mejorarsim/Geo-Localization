{
 "cells": [
  {
   "cell_type": "markdown",
   "metadata": {},
   "source": [
    "\n",
    "# Web Science Course work (M) – Geo Localisation\n"
   ]
  },
  {
   "cell_type": "markdown",
   "metadata": {},
   "source": [
    "### Import Packages and install Libraries\n"
   ]
  },
  {
   "cell_type": "code",
   "execution_count": 36,
   "metadata": {
    "colab": {
     "base_uri": "https://localhost:8080/"
    },
    "id": "BY_EC2XHkVBv",
    "outputId": "4aa179d1-f685-4fce-c10e-d98404102820"
   },
   "outputs": [],
   "source": [
    "# !pip install nltk\n",
    "# !pip install geopandas"
   ]
  },
  {
   "cell_type": "code",
   "execution_count": 37,
   "metadata": {},
   "outputs": [],
   "source": [
    "# Standard library imports\n",
    "import json\n",
    "from collections import Counter\n",
    "\n",
    "# Third party imports\n",
    "import geopandas as gpd\n",
    "import matplotlib.pyplot as plt\n",
    "import numpy as np\n",
    "import pandas as pd\n",
    "import seaborn as sns\n",
    "\n",
    "from nltk.corpus import stopwords\n",
    "from nltk.stem import PorterStemmer\n",
    "from nltk.tokenize import word_tokenize\n",
    "from shapely.geometry import Point\n",
    "from collections import Counter\n"
   ]
  },
  {
   "cell_type": "code",
   "execution_count": 38,
   "metadata": {
    "colab": {
     "base_uri": "https://localhost:8080/"
    },
    "id": "oZKqE1QAdE1O",
    "outputId": "390f849d-8631-420b-8c7f-31195f752cbb"
   },
   "outputs": [
    {
     "name": "stdout",
     "output_type": "stream",
     "text": [
      "C:\\Users\\Simran\\Desktop\\neccchv\\Simran\\data\\datajson\n"
     ]
    }
   ],
   "source": [
    "%cd C:\\Users\\Simran\\Desktop\\neccchv\\Simran\\data\\datajson"
   ]
  },
  {
   "cell_type": "code",
   "execution_count": 39,
   "metadata": {
    "id": "o4jCo-k2QQ_O"
   },
   "outputs": [],
   "source": [
    "files = [\n",
    "    \"geoLondonSep2022_1.json\",\n",
    "    \"geoLondonSep2022_2.json\",\n",
    "    \"geoLondonSep2022_3.json\",\n",
    "    \"geoLondonSep2022_4.json\",\n",
    "    \"geoLondonSep2022_5.json\"\n",
    "]\n",
    "\n",
    "def config_JFiles(filename):\n",
    "    result = list()\n",
    "    for f1 in filename:\n",
    "        with open(f1, 'r', encoding='utf-8') as infile:  # Specify encoding here\n",
    "            result.extend(json.load(infile))\n",
    "\n",
    "    with open('updated.json', 'w', encoding='utf-8') as output_file:  # And also here\n",
    "        json.dump(result, output_file)\n",
    "\n",
    "config_JFiles(files)\n",
    "\n",
    "# Now reading the updated JSON data should not raise the UnicodeDecodeError\n",
    "tweet_info = pd.read_json('updated.json') \n"
   ]
  },
  {
   "cell_type": "code",
   "execution_count": 40,
   "metadata": {
    "colab": {
     "base_uri": "https://localhost:8080/",
     "height": 964
    },
    "id": "lJDwAIA64ysn",
    "outputId": "f7f5d1d7-4426-4300-aaf6-71217064af19"
   },
   "outputs": [
    {
     "data": {
      "text/html": [
       "<div>\n",
       "<style scoped>\n",
       "    .dataframe tbody tr th:only-of-type {\n",
       "        vertical-align: middle;\n",
       "    }\n",
       "\n",
       "    .dataframe tbody tr th {\n",
       "        vertical-align: top;\n",
       "    }\n",
       "\n",
       "    .dataframe thead th {\n",
       "        text-align: right;\n",
       "    }\n",
       "</style>\n",
       "<table border=\"1\" class=\"dataframe\">\n",
       "  <thead>\n",
       "    <tr style=\"text-align: right;\">\n",
       "      <th></th>\n",
       "      <th>_id</th>\n",
       "      <th>date</th>\n",
       "      <th>screen_name</th>\n",
       "      <th>qualityScore</th>\n",
       "      <th>text</th>\n",
       "      <th>url</th>\n",
       "      <th>description</th>\n",
       "      <th>listed_count</th>\n",
       "      <th>user_created</th>\n",
       "      <th>geo_enabled</th>\n",
       "      <th>...</th>\n",
       "      <th>location</th>\n",
       "      <th>followers_count</th>\n",
       "      <th>friends_count</th>\n",
       "      <th>place_name</th>\n",
       "      <th>place_country</th>\n",
       "      <th>country_code</th>\n",
       "      <th>place_coordinates</th>\n",
       "      <th>hashtags</th>\n",
       "      <th>mentions</th>\n",
       "      <th>source</th>\n",
       "    </tr>\n",
       "  </thead>\n",
       "  <tbody>\n",
       "    <tr>\n",
       "      <th>0</th>\n",
       "      <td>1565429028747616256</td>\n",
       "      <td>{'$date': '2022-09-01T19:58:59Z'}</td>\n",
       "      <td>loststoryart</td>\n",
       "      <td>0.554386</td>\n",
       "      <td>Just posted a photo @ London, United Kingdom h...</td>\n",
       "      <td>https://t.co/Ejo6POjL2A</td>\n",
       "      <td>Artist/Dreamer</td>\n",
       "      <td>0</td>\n",
       "      <td>{'$date': '2014-09-06T16:58:45Z'}</td>\n",
       "      <td>True</td>\n",
       "      <td>...</td>\n",
       "      <td>London, England</td>\n",
       "      <td>105</td>\n",
       "      <td>105</td>\n",
       "      <td>City of London, London</td>\n",
       "      <td>United Kingdom</td>\n",
       "      <td>GB</td>\n",
       "      <td>[[[-0.112442, 51.5068], [-0.0733794, 51.5068],...</td>\n",
       "      <td>[]</td>\n",
       "      <td>[]</td>\n",
       "      <td>Instagram</td>\n",
       "    </tr>\n",
       "    <tr>\n",
       "      <th>1</th>\n",
       "      <td>1565428982660603907</td>\n",
       "      <td>{'$date': '2022-09-01T19:58:48Z'}</td>\n",
       "      <td>amovivirlavida_</td>\n",
       "      <td>0.590283</td>\n",
       "      <td>Just posted a photo @ London, United Kingdom h...</td>\n",
       "      <td>https://t.co/0EJaicfKj4</td>\n",
       "      <td>Graphic Designer &amp; Influencer | 👻 - @ amovivir...</td>\n",
       "      <td>9</td>\n",
       "      <td>{'$date': '2012-02-06T20:32:30Z'}</td>\n",
       "      <td>True</td>\n",
       "      <td>...</td>\n",
       "      <td>Exeter, England</td>\n",
       "      <td>108</td>\n",
       "      <td>108</td>\n",
       "      <td>City of London, London</td>\n",
       "      <td>United Kingdom</td>\n",
       "      <td>GB</td>\n",
       "      <td>[[[-0.112442, 51.5068], [-0.0733794, 51.5068],...</td>\n",
       "      <td>[]</td>\n",
       "      <td>[]</td>\n",
       "      <td>Instagram</td>\n",
       "    </tr>\n",
       "    <tr>\n",
       "      <th>2</th>\n",
       "      <td>1565428290017443846</td>\n",
       "      <td>{'$date': '2022-09-01T19:56:03Z'}</td>\n",
       "      <td>NR_Boutique</td>\n",
       "      <td>0.591719</td>\n",
       "      <td>Just posted a photo @ Eliza Jane Howell https:...</td>\n",
       "      <td>https://t.co/SqygvueJN5</td>\n",
       "      <td>Mother of the Bride &amp; Groom Outfits and Matchi...</td>\n",
       "      <td>57</td>\n",
       "      <td>{'$date': '2012-04-20T19:10:02Z'}</td>\n",
       "      <td>True</td>\n",
       "      <td>...</td>\n",
       "      <td>London &amp; Manchester</td>\n",
       "      <td>2305</td>\n",
       "      <td>2305</td>\n",
       "      <td>Paddington, London</td>\n",
       "      <td>United Kingdom</td>\n",
       "      <td>GB</td>\n",
       "      <td>[[[-0.2160701, 51.5098789], [-0.1301597, 51.50...</td>\n",
       "      <td>[]</td>\n",
       "      <td>[]</td>\n",
       "      <td>Instagram</td>\n",
       "    </tr>\n",
       "    <tr>\n",
       "      <th>3</th>\n",
       "      <td>1565427593851158528</td>\n",
       "      <td>{'$date': '2022-09-01T19:53:17Z'}</td>\n",
       "      <td>grahamsrenwick</td>\n",
       "      <td>0.592131</td>\n",
       "      <td>Just posted a photo @ London, Unιted Kingdom h...</td>\n",
       "      <td>https://t.co/FIROKbxbXF</td>\n",
       "      <td>Designer, Dreamer, Creator, Artist @7490REN. L...</td>\n",
       "      <td>5</td>\n",
       "      <td>{'$date': '2012-08-24T21:23:58Z'}</td>\n",
       "      <td>True</td>\n",
       "      <td>...</td>\n",
       "      <td>London</td>\n",
       "      <td>228</td>\n",
       "      <td>228</td>\n",
       "      <td>Camberwell, London</td>\n",
       "      <td>United Kingdom</td>\n",
       "      <td>GB</td>\n",
       "      <td>[[[-0.11147549999999999, 51.4194247], [-0.0297...</td>\n",
       "      <td>[]</td>\n",
       "      <td>[]</td>\n",
       "      <td>Instagram</td>\n",
       "    </tr>\n",
       "    <tr>\n",
       "      <th>4</th>\n",
       "      <td>1565425981246115842</td>\n",
       "      <td>{'$date': '2022-09-01T19:46:52Z'}</td>\n",
       "      <td>Nickyfar</td>\n",
       "      <td>0.664139</td>\n",
       "      <td>A fun day murdering in London Town for the fir...</td>\n",
       "      <td>https://t.co/bPhORACxRM</td>\n",
       "      <td>Actress.Singer.Muse.Mischief.Bad Girl forever....</td>\n",
       "      <td>48</td>\n",
       "      <td>{'$date': '2009-02-06T13:18:51Z'}</td>\n",
       "      <td>True</td>\n",
       "      <td>...</td>\n",
       "      <td>Dorset.Sometimes London.</td>\n",
       "      <td>4141</td>\n",
       "      <td>4141</td>\n",
       "      <td>City of London, London</td>\n",
       "      <td>United Kingdom</td>\n",
       "      <td>GB</td>\n",
       "      <td>[[[-0.112442, 51.5068], [-0.0733794, 51.5068],...</td>\n",
       "      <td>[OrganiseEvents]</td>\n",
       "      <td>[themarcusmassey]</td>\n",
       "      <td>Instagram</td>\n",
       "    </tr>\n",
       "    <tr>\n",
       "      <th>...</th>\n",
       "      <td>...</td>\n",
       "      <td>...</td>\n",
       "      <td>...</td>\n",
       "      <td>...</td>\n",
       "      <td>...</td>\n",
       "      <td>...</td>\n",
       "      <td>...</td>\n",
       "      <td>...</td>\n",
       "      <td>...</td>\n",
       "      <td>...</td>\n",
       "      <td>...</td>\n",
       "      <td>...</td>\n",
       "      <td>...</td>\n",
       "      <td>...</td>\n",
       "      <td>...</td>\n",
       "      <td>...</td>\n",
       "      <td>...</td>\n",
       "      <td>...</td>\n",
       "      <td>...</td>\n",
       "      <td>...</td>\n",
       "      <td>...</td>\n",
       "    </tr>\n",
       "    <tr>\n",
       "      <th>13187</th>\n",
       "      <td>1575580078368378881</td>\n",
       "      <td>{'$date': '2022-09-29T20:15:38Z'}</td>\n",
       "      <td>tracymayh</td>\n",
       "      <td>0.588676</td>\n",
       "      <td>Just posted a photo @ The Langham, London http...</td>\n",
       "      <td>https://t.co/bdcKcb6Qpq</td>\n",
       "      <td>Tracy May Beauty. Guest Speaker. Educator. Ski...</td>\n",
       "      <td>2</td>\n",
       "      <td>{'$date': '2009-10-26T12:16:17Z'}</td>\n",
       "      <td>True</td>\n",
       "      <td>...</td>\n",
       "      <td>Staffordshire</td>\n",
       "      <td>217</td>\n",
       "      <td>217</td>\n",
       "      <td>Paddington, London</td>\n",
       "      <td>United Kingdom</td>\n",
       "      <td>GB</td>\n",
       "      <td>[[[-0.2160701, 51.5098789], [-0.1301597, 51.50...</td>\n",
       "      <td>[]</td>\n",
       "      <td>[]</td>\n",
       "      <td>Instagram</td>\n",
       "    </tr>\n",
       "    <tr>\n",
       "      <th>13188</th>\n",
       "      <td>1575579146775777280</td>\n",
       "      <td>{'$date': '2022-09-29T20:11:56Z'}</td>\n",
       "      <td>z_mie</td>\n",
       "      <td>0.569792</td>\n",
       "      <td>I'm at Viet Food in London, Greater London htt...</td>\n",
       "      <td>None</td>\n",
       "      <td>🈚️ 変わらずないよずって｜山崎賢人大好き😘</td>\n",
       "      <td>21</td>\n",
       "      <td>{'$date': '2010-09-02T16:55:48Z'}</td>\n",
       "      <td>True</td>\n",
       "      <td>...</td>\n",
       "      <td>SH —》SG</td>\n",
       "      <td>594</td>\n",
       "      <td>594</td>\n",
       "      <td>London, England</td>\n",
       "      <td>United Kingdom</td>\n",
       "      <td>GB</td>\n",
       "      <td>[[[-0.18789399999999998, 51.483718], [-0.10997...</td>\n",
       "      <td>[]</td>\n",
       "      <td>[]</td>\n",
       "      <td>Foursquare</td>\n",
       "    </tr>\n",
       "    <tr>\n",
       "      <th>13189</th>\n",
       "      <td>1575578499121041408</td>\n",
       "      <td>{'$date': '2022-09-29T20:09:21Z'}</td>\n",
       "      <td>Djyeo</td>\n",
       "      <td>0.592224</td>\n",
       "      <td>Just posted a photo @ London, United Kingdom h...</td>\n",
       "      <td>https://t.co/qWab8W8sbm</td>\n",
       "      <td>Actor|Commercial Model| Presenter. Coffee Conn...</td>\n",
       "      <td>224</td>\n",
       "      <td>{'$date': '2009-01-31T20:52:54Z'}</td>\n",
       "      <td>True</td>\n",
       "      <td>...</td>\n",
       "      <td>LONDON/NYC</td>\n",
       "      <td>4716</td>\n",
       "      <td>4716</td>\n",
       "      <td>City of London, London</td>\n",
       "      <td>United Kingdom</td>\n",
       "      <td>GB</td>\n",
       "      <td>[[[-0.112442, 51.5068], [-0.0733794, 51.5068],...</td>\n",
       "      <td>[]</td>\n",
       "      <td>[]</td>\n",
       "      <td>Instagram</td>\n",
       "    </tr>\n",
       "    <tr>\n",
       "      <th>13190</th>\n",
       "      <td>1575577168826232832</td>\n",
       "      <td>{'$date': '2022-09-29T20:04:04Z'}</td>\n",
       "      <td>CellarDoorChris</td>\n",
       "      <td>0.607921</td>\n",
       "      <td>Drinking a Studio Lager by @SignatureBrew at @...</td>\n",
       "      <td>https://t.co/WsmHN08X3O</td>\n",
       "      <td>Music, craft beer, wrestling &amp; video game love...</td>\n",
       "      <td>27</td>\n",
       "      <td>{'$date': '2009-03-16T22:06:02Z'}</td>\n",
       "      <td>True</td>\n",
       "      <td>...</td>\n",
       "      <td>London, UK</td>\n",
       "      <td>469</td>\n",
       "      <td>469</td>\n",
       "      <td>Islington, London</td>\n",
       "      <td>United Kingdom</td>\n",
       "      <td>GB</td>\n",
       "      <td>[[[-0.1420579, 51.5185518], [-0.076305, 51.518...</td>\n",
       "      <td>[]</td>\n",
       "      <td>[SignatureBrew, thelexington]</td>\n",
       "      <td>Untappd</td>\n",
       "    </tr>\n",
       "    <tr>\n",
       "      <th>13191</th>\n",
       "      <td>1575576182510141440</td>\n",
       "      <td>{'$date': '2022-09-29T20:00:09Z'}</td>\n",
       "      <td>gretakaviya</td>\n",
       "      <td>0.608710</td>\n",
       "      <td>Illustration 1 \\n\\nMuse: @uchjn \\n// @pinteres...</td>\n",
       "      <td>None</td>\n",
       "      <td>God is Love • Mood Posts 🌙🔮✨The Neon Nefertiti...</td>\n",
       "      <td>4</td>\n",
       "      <td>{'$date': '2009-05-03T13:22:14Z'}</td>\n",
       "      <td>True</td>\n",
       "      <td>...</td>\n",
       "      <td>London, England</td>\n",
       "      <td>310</td>\n",
       "      <td>310</td>\n",
       "      <td>City of London, London</td>\n",
       "      <td>United Kingdom</td>\n",
       "      <td>GB</td>\n",
       "      <td>[[[-0.112442, 51.5068], [-0.0733794, 51.5068],...</td>\n",
       "      <td>[]</td>\n",
       "      <td>[uchjn, pinterestUK, ArrtxArt]</td>\n",
       "      <td>Instagram</td>\n",
       "    </tr>\n",
       "  </tbody>\n",
       "</table>\n",
       "<p>13192 rows × 22 columns</p>\n",
       "</div>"
      ],
      "text/plain": [
       "                       _id                               date  \\\n",
       "0      1565429028747616256  {'$date': '2022-09-01T19:58:59Z'}   \n",
       "1      1565428982660603907  {'$date': '2022-09-01T19:58:48Z'}   \n",
       "2      1565428290017443846  {'$date': '2022-09-01T19:56:03Z'}   \n",
       "3      1565427593851158528  {'$date': '2022-09-01T19:53:17Z'}   \n",
       "4      1565425981246115842  {'$date': '2022-09-01T19:46:52Z'}   \n",
       "...                    ...                                ...   \n",
       "13187  1575580078368378881  {'$date': '2022-09-29T20:15:38Z'}   \n",
       "13188  1575579146775777280  {'$date': '2022-09-29T20:11:56Z'}   \n",
       "13189  1575578499121041408  {'$date': '2022-09-29T20:09:21Z'}   \n",
       "13190  1575577168826232832  {'$date': '2022-09-29T20:04:04Z'}   \n",
       "13191  1575576182510141440  {'$date': '2022-09-29T20:00:09Z'}   \n",
       "\n",
       "           screen_name  qualityScore  \\\n",
       "0         loststoryart      0.554386   \n",
       "1      amovivirlavida_      0.590283   \n",
       "2          NR_Boutique      0.591719   \n",
       "3       grahamsrenwick      0.592131   \n",
       "4             Nickyfar      0.664139   \n",
       "...                ...           ...   \n",
       "13187        tracymayh      0.588676   \n",
       "13188            z_mie      0.569792   \n",
       "13189            Djyeo      0.592224   \n",
       "13190  CellarDoorChris      0.607921   \n",
       "13191      gretakaviya      0.608710   \n",
       "\n",
       "                                                    text  \\\n",
       "0      Just posted a photo @ London, United Kingdom h...   \n",
       "1      Just posted a photo @ London, United Kingdom h...   \n",
       "2      Just posted a photo @ Eliza Jane Howell https:...   \n",
       "3      Just posted a photo @ London, Unιted Kingdom h...   \n",
       "4      A fun day murdering in London Town for the fir...   \n",
       "...                                                  ...   \n",
       "13187  Just posted a photo @ The Langham, London http...   \n",
       "13188  I'm at Viet Food in London, Greater London htt...   \n",
       "13189  Just posted a photo @ London, United Kingdom h...   \n",
       "13190  Drinking a Studio Lager by @SignatureBrew at @...   \n",
       "13191  Illustration 1 \\n\\nMuse: @uchjn \\n// @pinteres...   \n",
       "\n",
       "                           url  \\\n",
       "0      https://t.co/Ejo6POjL2A   \n",
       "1      https://t.co/0EJaicfKj4   \n",
       "2      https://t.co/SqygvueJN5   \n",
       "3      https://t.co/FIROKbxbXF   \n",
       "4      https://t.co/bPhORACxRM   \n",
       "...                        ...   \n",
       "13187  https://t.co/bdcKcb6Qpq   \n",
       "13188                     None   \n",
       "13189  https://t.co/qWab8W8sbm   \n",
       "13190  https://t.co/WsmHN08X3O   \n",
       "13191                     None   \n",
       "\n",
       "                                             description  listed_count  \\\n",
       "0                                         Artist/Dreamer             0   \n",
       "1      Graphic Designer & Influencer | 👻 - @ amovivir...             9   \n",
       "2      Mother of the Bride & Groom Outfits and Matchi...            57   \n",
       "3      Designer, Dreamer, Creator, Artist @7490REN. L...             5   \n",
       "4      Actress.Singer.Muse.Mischief.Bad Girl forever....            48   \n",
       "...                                                  ...           ...   \n",
       "13187  Tracy May Beauty. Guest Speaker. Educator. Ski...             2   \n",
       "13188                             🈚️ 変わらずないよずって｜山崎賢人大好き😘            21   \n",
       "13189  Actor|Commercial Model| Presenter. Coffee Conn...           224   \n",
       "13190  Music, craft beer, wrestling & video game love...            27   \n",
       "13191  God is Love • Mood Posts 🌙🔮✨The Neon Nefertiti...             4   \n",
       "\n",
       "                            user_created  geo_enabled  ...  \\\n",
       "0      {'$date': '2014-09-06T16:58:45Z'}         True  ...   \n",
       "1      {'$date': '2012-02-06T20:32:30Z'}         True  ...   \n",
       "2      {'$date': '2012-04-20T19:10:02Z'}         True  ...   \n",
       "3      {'$date': '2012-08-24T21:23:58Z'}         True  ...   \n",
       "4      {'$date': '2009-02-06T13:18:51Z'}         True  ...   \n",
       "...                                  ...          ...  ...   \n",
       "13187  {'$date': '2009-10-26T12:16:17Z'}         True  ...   \n",
       "13188  {'$date': '2010-09-02T16:55:48Z'}         True  ...   \n",
       "13189  {'$date': '2009-01-31T20:52:54Z'}         True  ...   \n",
       "13190  {'$date': '2009-03-16T22:06:02Z'}         True  ...   \n",
       "13191  {'$date': '2009-05-03T13:22:14Z'}         True  ...   \n",
       "\n",
       "                       location followers_count  friends_count  \\\n",
       "0               London, England             105            105   \n",
       "1               Exeter, England             108            108   \n",
       "2           London & Manchester            2305           2305   \n",
       "3                        London             228            228   \n",
       "4      Dorset.Sometimes London.            4141           4141   \n",
       "...                         ...             ...            ...   \n",
       "13187             Staffordshire             217            217   \n",
       "13188                   SH —》SG             594            594   \n",
       "13189                LONDON/NYC            4716           4716   \n",
       "13190                London, UK             469            469   \n",
       "13191           London, England             310            310   \n",
       "\n",
       "                   place_name   place_country country_code  \\\n",
       "0      City of London, London  United Kingdom           GB   \n",
       "1      City of London, London  United Kingdom           GB   \n",
       "2          Paddington, London  United Kingdom           GB   \n",
       "3          Camberwell, London  United Kingdom           GB   \n",
       "4      City of London, London  United Kingdom           GB   \n",
       "...                       ...             ...          ...   \n",
       "13187      Paddington, London  United Kingdom           GB   \n",
       "13188         London, England  United Kingdom           GB   \n",
       "13189  City of London, London  United Kingdom           GB   \n",
       "13190       Islington, London  United Kingdom           GB   \n",
       "13191  City of London, London  United Kingdom           GB   \n",
       "\n",
       "                                       place_coordinates          hashtags  \\\n",
       "0      [[[-0.112442, 51.5068], [-0.0733794, 51.5068],...                []   \n",
       "1      [[[-0.112442, 51.5068], [-0.0733794, 51.5068],...                []   \n",
       "2      [[[-0.2160701, 51.5098789], [-0.1301597, 51.50...                []   \n",
       "3      [[[-0.11147549999999999, 51.4194247], [-0.0297...                []   \n",
       "4      [[[-0.112442, 51.5068], [-0.0733794, 51.5068],...  [OrganiseEvents]   \n",
       "...                                                  ...               ...   \n",
       "13187  [[[-0.2160701, 51.5098789], [-0.1301597, 51.50...                []   \n",
       "13188  [[[-0.18789399999999998, 51.483718], [-0.10997...                []   \n",
       "13189  [[[-0.112442, 51.5068], [-0.0733794, 51.5068],...                []   \n",
       "13190  [[[-0.1420579, 51.5185518], [-0.076305, 51.518...                []   \n",
       "13191  [[[-0.112442, 51.5068], [-0.0733794, 51.5068],...                []   \n",
       "\n",
       "                             mentions      source  \n",
       "0                                  []   Instagram  \n",
       "1                                  []   Instagram  \n",
       "2                                  []   Instagram  \n",
       "3                                  []   Instagram  \n",
       "4                   [themarcusmassey]   Instagram  \n",
       "...                               ...         ...  \n",
       "13187                              []   Instagram  \n",
       "13188                              []  Foursquare  \n",
       "13189                              []   Instagram  \n",
       "13190   [SignatureBrew, thelexington]     Untappd  \n",
       "13191  [uchjn, pinterestUK, ArrtxArt]   Instagram  \n",
       "\n",
       "[13192 rows x 22 columns]"
      ]
     },
     "execution_count": 40,
     "metadata": {},
     "output_type": "execute_result"
    }
   ],
   "source": [
    "tweet_info"
   ]
  },
  {
   "cell_type": "code",
   "execution_count": 41,
   "metadata": {
    "colab": {
     "base_uri": "https://localhost:8080/"
    },
    "id": "USgwgAOcm_AJ",
    "outputId": "ec305e50-1da2-425d-8b00-50229f72dfb0"
   },
   "outputs": [
    {
     "name": "stdout",
     "output_type": "stream",
     "text": [
      "Grid Dimensions:\n",
      "Number of Rows:    48\n",
      "Number of Columns: 59\n",
      "Total Grids:       2832\n",
      "\n",
      "Tweets per Grid Summary:\n",
      "              Grid  Tweets count\n",
      "count  2832.000000   2832.000000\n",
      "mean   1416.500000      4.658192\n",
      "std     817.672306     85.638288\n",
      "min       1.000000      0.000000\n",
      "25%     708.750000      0.000000\n",
      "50%    1416.500000      0.000000\n",
      "75%    2124.250000      0.000000\n",
      "max    2832.000000   4257.000000\n"
     ]
    }
   ],
   "source": [
    "def comp_measure(place_1, place_2):\n",
    "    \n",
    "    \"\"\"Compute Haversine distance between two locations.\"\"\"\n",
    "    \n",
    "    # Convert angles from degrees to radians\n",
    "    altitude_1,latitude_2, longitude_3, alti_4 = map(np.radians, [place_1[0], place_1[1], place_2[0], place_2[1]])\n",
    "    # Compute haversine of the central angle\n",
    "    hav = np.sin((alti_4 -latitude_2) / 2) ** 2 + np.cos(latitude_2) * np.cos(alti_4) * np.sin((longitude_3 - altitude_1) / 2) ** 2\n",
    "    return 6371 * 2 * np.arcsin(np.sqrt(hav))\n",
    "\n",
    "# London coordinates\n",
    "altitude_1,latitude_2 = [-0.563, 51.261318]\n",
    "longitude_3, alti_4 = [0.28036, 51.686031]\n",
    "\n",
    "# Calculate grid dimensions\n",
    "grid_row = int(np.ceil(comp_measure([altitude_1,latitude_2], [altitude_1, alti_4])))\n",
    "grid_col = int(np.ceil(comp_measure([altitude_1,latitude_2], [longitude_3,latitude_2])))\n",
    "new_grid = grid_row * grid_col\n",
    "\n",
    "# Print grid dimensions attractively\n",
    "print('Grid Dimensions:')\n",
    "print(f'Number of Rows:    {grid_row}')\n",
    "print(f'Number of Columns: {grid_col}')\n",
    "print(f'Total Grids:       {new_grid}')\n",
    "\n",
    "# Initialize grid map\n",
    "map_network = np.zeros((grid_row, grid_col), dtype=int)\n",
    "\n",
    "# Populate grid map with tweet counts\n",
    "for coordinate in tweet_info['coordinates']:\n",
    "    matrix_row = int(np.ceil(comp_measure([altitude_1,latitude_2], [altitude_1, coordinate[1]])))\n",
    "    matrix_col = int(np.ceil(comp_measure([altitude_1,latitude_2], [coordinate[0],latitude_2])))\n",
    "    map_network[matrix_row, matrix_col] += 1\n",
    "\n",
    "# Flatten grid map and create DataFrame\n",
    "new_tweetlist = np.ravel(map_network)\n",
    "grid_col = 'Grid'\n",
    "new_tweetcol = 'Tweets count'\n",
    "new_info_df = pd.DataFrame({grid_col: np.arange(1, new_grid + 1), new_tweetcol: new_tweetlist})\n",
    "\n",
    "# Print DataFrame summary\n",
    "print('\\nTweets per Grid Summary:')\n",
    "print(new_info_df.describe())\n"
   ]
  },
  {
   "cell_type": "markdown",
   "metadata": {
    "id": "j9SOi1tEWw6d"
   },
   "source": [
    "### Question (i) \n",
    "A dataset will be given to you (In the Data folder teams). Write python code to organise tweets into \n",
    "grids of 1km x 1km. Draw charts and/or figures to analyse the distribution of data. \n",
    "The coordinate system we used to collect data is  \n",
    "London = [-0.563, 51.261318, 0.28036, 51.686031]"
   ]
  },
  {
   "cell_type": "code",
   "execution_count": 42,
   "metadata": {
    "id": "zjd1Dlmfm_eq"
   },
   "outputs": [
    {
     "name": "stdout",
     "output_type": "stream",
     "text": [
      "Grid Dimensions\n",
      "\n",
      "║ Number of Rows:    48          \n",
      "║ Number of Columns: 59          \n",
      "║ Total Grids:       2832        \n"
     ]
    }
   ],
   "source": [
    "\n",
    "def comp_measure(place_1, place_2):\n",
    "    \"\"\"Compute Haversine distance between two locations.\"\"\"\n",
    "    altitude_1,latitude_2, longitude_3, alti_4 = map(np.radians, [place_1[0], place_1[1], place_2[0], place_2[1]])  \n",
    "    hav = np.sin((alti_4 -latitude_2) / 2) ** 2 + np.cos(latitude_2) * np.cos(alti_4) * np.sin((longitude_3 - altitude_1) / 2) ** 2  \n",
    "    return 6371 * 2 * np.arcsin(np.sqrt(hav))\n",
    "\n",
    "# London coordinates\n",
    "altitude_1,latitude_2 = [-0.563, 51.261318]\n",
    "longitude_3, alti_4 = [0.28036, 51.686031]\n",
    "\n",
    "# Calculate grid dimensions\n",
    "grid_row = int(np.ceil(comp_measure([altitude_1,latitude_2], [altitude_1, alti_4])))\n",
    "grid_col = int(np.ceil(comp_measure([altitude_1,latitude_2], [longitude_3,latitude_2])))\n",
    "new_grid = grid_row * grid_col\n",
    "\n",
    "# Create a table for grid dimensions\n",
    "print(\"Grid Dimensions\")\n",
    "print()\n",
    "print(f\"║ Number of Rows:    {grid_row:<12}\")\n",
    "print(f\"║ Number of Columns: {grid_col:<12}\")\n",
    "print(f\"║ Total Grids:       {new_grid:<12}\")\n"
   ]
  },
  {
   "cell_type": "code",
   "execution_count": 43,
   "metadata": {
    "id": "yMv4OfXWofuu"
   },
   "outputs": [],
   "source": [
    "map_network = np.zeros((grid_row, grid_col), dtype = int)\n",
    "\n",
    "for coordinate in tweet_info['coordinates']:\n",
    "    matrix_row = np.ceil(comp_measure([altitude_1,latitude_2], [altitude_1, coordinate[1]])).astype(int)\n",
    "    matrix_col = np.ceil(comp_measure([altitude_1,latitude_2], [coordinate[0],latitude_2])).astype(int)\n",
    "    map_network[matrix_row, matrix_col] += 1"
   ]
  },
  {
   "cell_type": "code",
   "execution_count": 44,
   "metadata": {
    "id": "U3Pf4vPeojbV"
   },
   "outputs": [],
   "source": [
    "new_tweetlist = np.ravel(map_network)\n",
    "grid_col = 'Grid'\n",
    "new_tweetcol = 'Tweets count'\n",
    "new_info_df = pd.DataFrame({grid_col: np.arange(1, new_grid + 1), new_tweetcol: new_tweetlist})"
   ]
  },
  {
   "cell_type": "code",
   "execution_count": 45,
   "metadata": {
    "colab": {
     "base_uri": "https://localhost:8080/",
     "height": 600
    },
    "id": "FNHdKbkWtOya",
    "outputId": "d3879ab6-468f-4e06-9353-b7fca7b2b98a"
   },
   "outputs": [
    {
     "name": "stderr",
     "output_type": "stream",
     "text": [
      "C:\\Users\\Simran\\AppData\\Local\\Temp\\ipykernel_8896\\898909007.py:8: UserWarning: Attempt to set non-positive ylim on a log-scaled axis will be ignored.\n",
      "  plt.ylim(0, 50)\n"
     ]
    },
    {
     "data": {
      "image/png": "[encoded data removed]",
      "text/plain": [
       "<Figure size 1200x600 with 1 Axes>"
      ]
     },
     "metadata": {},
     "output_type": "display_data"
    }
   ],
   "source": [
    "# Visualize using histogram\n",
    "\n",
    "plt.figure(figsize=(12, 6))\n",
    "plt.hist(new_tweetlist, bins=np.max(new_tweetlist), log=True, color='blue', alpha=0.7, edgecolor='blue')\n",
    "plt.title('The Distribution of Tweets in 1km x 1km Cells')\n",
    "plt.xlabel('Number of Tweets')\n",
    "plt.ylabel('Number of Grid Cells (log scale)')\n",
    "plt.ylim(0, 50)\n",
    "plt.xlim(0, 700)\n",
    "plt.legend(['Tweets per Grid Cell'], loc='upper right')\n",
    "plt.grid(True, linestyle='--', alpha=0.5)\n",
    "plt.show()\n"
   ]
  },
  {
   "cell_type": "code",
   "execution_count": 46,
   "metadata": {
    "colab": {
     "base_uri": "https://localhost:8080/",
     "height": 718
    },
    "id": "Nu-kQyAcqIOP",
    "outputId": "3564f179-acb7-403f-8e4b-8c688c95127e"
   },
   "outputs": [
    {
     "data": {
      "image/png": "[encoded data removed]",
      "text/plain": [
       "<Figure size 1000x800 with 2 Axes>"
      ]
     },
     "metadata": {},
     "output_type": "display_data"
    }
   ],
   "source": [
    "# Create heatmap of tweet distribution\n",
    "\n",
    "plt.figure(figsize=(10, 8))\n",
    "map_network_log = np.log(map_network, out = np.zeros_like(map_network, dtype = float), where = (map_network != 0))\n",
    "sns.heatmap(map_network_log, cmap='RdPu')\n",
    "plt.title('Tweet Distribution in London (1km x 1km Grid)')\n",
    "plt.xlabel('Longitude (in log)')\n",
    "plt.ylabel('Latitude (in log)')\n",
    "plt.show()\n"
   ]
  },
  {
   "cell_type": "code",
   "execution_count": 47,
   "metadata": {
    "colab": {
     "base_uri": "https://localhost:8080/"
    },
    "id": "QbPDVlLnNw5_",
    "outputId": "817ce26a-0ff2-43ce-b274-2aa1266bbd08"
   },
   "outputs": [
    {
     "name": "stdout",
     "output_type": "stream",
     "text": [
      "\n",
      "Statistics Summary:\n",
      "\n",
      "\u001b[1mTotal Tweets:\u001b[0m 13192\n",
      "\u001b[1mAverage Tweets per Grid Cell:\u001b[0m 4.65819209039548\n",
      "\u001b[1mMedian Tweets per Grid Cell:\u001b[0m 0.0\n",
      "\u001b[1mMaximum Tweets in a Grid Cell:\u001b[0m 4257\n",
      "\u001b[1mMinimum Tweets in a Grid Cell:\u001b[0m 0\n"
     ]
    }
   ],
   "source": [
    "# Compute statistics\n",
    "final_tweet_info = len(tweet_info)\n",
    "tweet_in_a_cell = map_network.flatten()\n",
    "mean_tweet_in_a_cell = np.mean(tweet_in_a_cell)\n",
    "median_tweet_in_a_cell = np.median(tweet_in_a_cell)\n",
    "max_tweet_in_a_cell = np.max(tweet_in_a_cell)\n",
    "min_tweet_in_a_cell = np.min(tweet_in_a_cell)\n",
    "\n",
    "# Print statistics\n",
    "print(\"\\nStatistics Summary:\")\n",
    "print()\n",
    "print(\"\\033[1mTotal Tweets:\\033[0m\", final_tweet_info)\n",
    "print(\"\\033[1mAverage Tweets per Grid Cell:\\033[0m\", mean_tweet_in_a_cell)\n",
    "print(\"\\033[1mMedian Tweets per Grid Cell:\\033[0m\", median_tweet_in_a_cell)\n",
    "print(\"\\033[1mMaximum Tweets in a Grid Cell:\\033[0m\", max_tweet_in_a_cell)\n",
    "print(\"\\033[1mMinimum Tweets in a Grid Cell:\\033[0m\", min_tweet_in_a_cell)\n"
   ]
  },
  {
   "cell_type": "markdown",
   "metadata": {
    "id": "Wg1vslRL24iP"
   },
   "source": [
    "### Question (ii)\n",
    "\n",
    "You will be given a set of high-quality, low-quality and background tweets. Develop \n",
    "newsworthy scoring method based on this dataset. Empirically adjust the thresholds to \n",
    "modify newsworthiness and discuss the results."
   ]
  },
  {
   "cell_type": "code",
   "execution_count": 48,
   "metadata": {
    "colab": {
     "base_uri": "https://localhost:8080/"
    },
    "id": "qrpbdVXT5q4p",
    "outputId": "f36aa3ab-01cc-46d3-a159-bdd30ace829b"
   },
   "outputs": [
    {
     "name": "stdout",
     "output_type": "stream",
     "text": [
      "C:\\Users\\Simran\\Desktop\\neccchv\\Simran\\data\\credModelFiles\n"
     ]
    }
   ],
   "source": [
    "%cd C:\\Users\\Simran\\Desktop\\neccchv\\Simran\\data\\credModelFiles"
   ]
  },
  {
   "cell_type": "code",
   "execution_count": 49,
   "metadata": {
    "id": "1yaDIidiY9-U"
   },
   "outputs": [],
   "source": [
    "\n",
    "# Load the tweet data as Pandas DataFrames\n",
    "background_tweets_df = pd.read_json('bgQuality.json', lines=True)\n",
    "high_quality_tweets_df = pd.read_json('highQuality.json', lines=True)\n",
    "low_quality_tweets_df = pd.read_json('lowQuality.json', lines=True)\n",
    "\n",
    "# Function to calculate term and document frequencies\n",
    "def cal_docterm_freq(tweets_df):\n",
    "    term_freq = Counter()\n",
    "    doc_freq = Counter()\n",
    "\n",
    "    for index, row in tweets_df.iterrows():\n",
    "        text = ' '.join(row['text'])  # Join the list of strings into a single string\n",
    "        terms = text.split()  # Split text into terms (words)\n",
    "        unique_terms = set(terms)  # Get unique terms in the tweet\n",
    "\n",
    "        # Increment term frequencies for each term in the tweet\n",
    "        term_freq.update(terms)\n",
    "\n",
    "        # Increment document frequencies for each unique term in the tweet\n",
    "        doc_freq.update(unique_terms)\n",
    "\n",
    "    return term_freq, doc_freq\n",
    "\n",
    "# Calculate term frequencies and document frequencies for each dataset\n",
    "term_freq_HQ, doc_freq_HQ = cal_docterm_freq(high_quality_tweets_df)\n",
    "term_freq_LQ, doc_freq_LQ = cal_docterm_freq(low_quality_tweets_df)\n",
    "term_freq_BG, doc_freq_BG = cal_docterm_freq(background_tweets_df)\n",
    "\n",
    "# Function to calculate likelihood ratios\n",
    "def cal_lhood_ratio(tf_model, F_model, tf_bg, F_bg):\n",
    "    tf_model_sum = sum(tf_model.values())\n",
    "    F_model_sum = sum(F_model.values())\n",
    "    tf_bg_sum = sum(tf_bg.values())\n",
    "    F_bg_sum = sum(F_bg.values())\n",
    "    return (tf_model_sum / F_model_sum) / (tf_bg_sum / F_bg_sum)\n",
    "\n",
    "# Define thresholds for considering terms as newsworthy\n",
    "threshold_HQ = 2.0\n",
    "threshold_LQ = 2.0\n",
    "\n",
    "# Calculate likelihood ratios\n",
    "RHQ = cal_lhood_ratio(term_freq_HQ, doc_freq_HQ, term_freq_BG, doc_freq_BG)\n",
    "RLQ = cal_lhood_ratio(term_freq_LQ, doc_freq_LQ, term_freq_BG, doc_freq_BG)\n",
    "\n",
    "# Define newsworthy scores based on likelihood ratios and thresholds\n",
    "SHQ = {term: RHQ if RHQ >= threshold_HQ else 0 for term in term_freq_HQ}\n",
    "SLQ = {term: RLQ if RLQ >= threshold_LQ else 0 for term in term_freq_LQ}\n",
    "\n",
    "# Function to calculate newsworthy scores for each tweet\n",
    "def cal_tweet_newsworthyscore(text, quality_score, scores):\n",
    "    terms = text.split()\n",
    "    return sum(scores.get(term, 0) * quality_score for term in terms)\n",
    "\n",
    "# Apply newsworthy score calculation to each tweet\n",
    "high_quality_tweets_df['newsworthy_score'] = high_quality_tweets_df.apply(lambda row: cal_tweet_newsworthyscore(row['text'], row['qualityS'], SHQ), axis=1)\n",
    "low_quality_tweets_df['newsworthy_score'] = low_quality_tweets_df.apply(lambda row: cal_tweet_newsworthyscore(row['text'], row['qualityS'], SLQ), axis=1)\n",
    "\n",
    "\n"
   ]
  },
  {
   "cell_type": "code",
   "execution_count": 50,
   "metadata": {
    "colab": {
     "base_uri": "https://localhost:8080/",
     "height": 424
    },
    "id": "QiiM5arzY-AN",
    "outputId": "a0f09c09-a3fc-4db0-ec86-9c7fe5831ac9"
   },
   "outputs": [
    {
     "data": {
      "text/html": [
       "<div>\n",
       "<style scoped>\n",
       "    .dataframe tbody tr th:only-of-type {\n",
       "        vertical-align: middle;\n",
       "    }\n",
       "\n",
       "    .dataframe tbody tr th {\n",
       "        vertical-align: top;\n",
       "    }\n",
       "\n",
       "    .dataframe thead th {\n",
       "        text-align: right;\n",
       "    }\n",
       "</style>\n",
       "<table border=\"1\" class=\"dataframe\">\n",
       "  <thead>\n",
       "    <tr style=\"text-align: right;\">\n",
       "      <th></th>\n",
       "      <th>_id</th>\n",
       "      <th>username</th>\n",
       "      <th>description</th>\n",
       "      <th>qualityS</th>\n",
       "      <th>text</th>\n",
       "      <th>newsworthy_score</th>\n",
       "    </tr>\n",
       "  </thead>\n",
       "  <tbody>\n",
       "    <tr>\n",
       "      <th>0</th>\n",
       "      <td>{'$oid': '623cb1491fdfc2cfea3b85c4'}</td>\n",
       "      <td>miguel_zavalaa</td>\n",
       "      <td>•Mind with no sense in it•   •Stay away from m...</td>\n",
       "      <td>0.608200</td>\n",
       "      <td>Turisteando (@ Piccadilly Circus in London, Gr...</td>\n",
       "      <td>0.000000</td>\n",
       "    </tr>\n",
       "    <tr>\n",
       "      <th>1</th>\n",
       "      <td>{'$oid': '623cb1521fdfc2cfea3b85c5'}</td>\n",
       "      <td>afiya_muir</td>\n",
       "      <td>well behaved bitches seldom make history</td>\n",
       "      <td>0.607630</td>\n",
       "      <td>Less perfection, more authenticity  purrrrrr :...</td>\n",
       "      <td>5.516974</td>\n",
       "    </tr>\n",
       "    <tr>\n",
       "      <th>2</th>\n",
       "      <td>{'$oid': '623cb1561fdfc2cfea3b85c6'}</td>\n",
       "      <td>tmj_ukr_finance</td>\n",
       "      <td>Follow this account for geo-targeted Finance j...</td>\n",
       "      <td>0.603990</td>\n",
       "      <td>Mastercard is hiring in England! Read about ou...</td>\n",
       "      <td>0.000000</td>\n",
       "    </tr>\n",
       "    <tr>\n",
       "      <th>3</th>\n",
       "      <td>{'$oid': '623cb2c94827882b7ebc2ad1'}</td>\n",
       "      <td>MeM_11UK</td>\n",
       "      <td>لَا اِلَهَ اِلَّا اللهْ\\n📍🇬🇧🇹🇷\\nMarketing PR a...</td>\n",
       "      <td>0.612291</td>\n",
       "      <td>#sunset #SouthLondon \\n#سبحان_الله @ Crystal P...</td>\n",
       "      <td>1.853100</td>\n",
       "    </tr>\n",
       "    <tr>\n",
       "      <th>4</th>\n",
       "      <td>{'$oid': '623cb9396ae5e59baf7b86c4'}</td>\n",
       "      <td>DecaraHome</td>\n",
       "      <td>Boutique interior design shop and consultancy ...</td>\n",
       "      <td>0.608713</td>\n",
       "      <td>What a beautiful setting designed by @stevegia...</td>\n",
       "      <td>3.684540</td>\n",
       "    </tr>\n",
       "    <tr>\n",
       "      <th>...</th>\n",
       "      <td>...</td>\n",
       "      <td>...</td>\n",
       "      <td>...</td>\n",
       "      <td>...</td>\n",
       "      <td>...</td>\n",
       "      <td>...</td>\n",
       "    </tr>\n",
       "    <tr>\n",
       "      <th>2496</th>\n",
       "      <td>{'$oid': '623ebfbba6fa2f166360f658'}</td>\n",
       "      <td>giadalini</td>\n",
       "      <td>BALLERINA PROFESSIONISTA a @ballandoconlestell...</td>\n",
       "      <td>0.606865</td>\n",
       "      <td>London ️ @ London, United Kingdom https://t.co...</td>\n",
       "      <td>3.673356</td>\n",
       "    </tr>\n",
       "    <tr>\n",
       "      <th>2497</th>\n",
       "      <td>{'$oid': '623ebfd3a6fa2f166360f659'}</td>\n",
       "      <td>officiallyemz</td>\n",
       "      <td>🇬🇧💖. Email for inquires : emilykmorton@hotmail...</td>\n",
       "      <td>0.634846</td>\n",
       "      <td>Felt cute might delete later  wearing @inthest...</td>\n",
       "      <td>1.921363</td>\n",
       "    </tr>\n",
       "    <tr>\n",
       "      <th>2498</th>\n",
       "      <td>{'$oid': '623ebfdba6fa2f166360f65a'}</td>\n",
       "      <td>weareflock</td>\n",
       "      <td>Flock. A visual artists agency.\\nGo follow us ...</td>\n",
       "      <td>0.606913</td>\n",
       "      <td>Joseph Ford - Arnold Worldwide  https://t.co/o...</td>\n",
       "      <td>1.836822</td>\n",
       "    </tr>\n",
       "    <tr>\n",
       "      <th>2499</th>\n",
       "      <td>{'$oid': '623ebfdea6fa2f166360f65b'}</td>\n",
       "      <td>TonyJSelimi</td>\n",
       "      <td>Millionaire's Life Strategist, #1 Best-Selling...</td>\n",
       "      <td>0.672418</td>\n",
       "      <td>Just posted a photo @ Luli's Barbers https://t...</td>\n",
       "      <td>4.070151</td>\n",
       "    </tr>\n",
       "    <tr>\n",
       "      <th>2500</th>\n",
       "      <td>{'$oid': '623ebfefa6fa2f166360f65c'}</td>\n",
       "      <td>AndrewRolph</td>\n",
       "      <td>Office 365, Continuous Improvement and more!</td>\n",
       "      <td>0.606731</td>\n",
       "      <td>I'm at London Liverpool Street Railway Station...</td>\n",
       "      <td>1.836271</td>\n",
       "    </tr>\n",
       "  </tbody>\n",
       "</table>\n",
       "<p>2501 rows × 6 columns</p>\n",
       "</div>"
      ],
      "text/plain": [
       "                                       _id         username  \\\n",
       "0     {'$oid': '623cb1491fdfc2cfea3b85c4'}   miguel_zavalaa   \n",
       "1     {'$oid': '623cb1521fdfc2cfea3b85c5'}       afiya_muir   \n",
       "2     {'$oid': '623cb1561fdfc2cfea3b85c6'}  tmj_ukr_finance   \n",
       "3     {'$oid': '623cb2c94827882b7ebc2ad1'}         MeM_11UK   \n",
       "4     {'$oid': '623cb9396ae5e59baf7b86c4'}       DecaraHome   \n",
       "...                                    ...              ...   \n",
       "2496  {'$oid': '623ebfbba6fa2f166360f658'}        giadalini   \n",
       "2497  {'$oid': '623ebfd3a6fa2f166360f659'}    officiallyemz   \n",
       "2498  {'$oid': '623ebfdba6fa2f166360f65a'}       weareflock   \n",
       "2499  {'$oid': '623ebfdea6fa2f166360f65b'}      TonyJSelimi   \n",
       "2500  {'$oid': '623ebfefa6fa2f166360f65c'}      AndrewRolph   \n",
       "\n",
       "                                            description  qualityS  \\\n",
       "0     •Mind with no sense in it•   •Stay away from m...  0.608200   \n",
       "1              well behaved bitches seldom make history  0.607630   \n",
       "2     Follow this account for geo-targeted Finance j...  0.603990   \n",
       "3     لَا اِلَهَ اِلَّا اللهْ\\n📍🇬🇧🇹🇷\\nMarketing PR a...  0.612291   \n",
       "4     Boutique interior design shop and consultancy ...  0.608713   \n",
       "...                                                 ...       ...   \n",
       "2496  BALLERINA PROFESSIONISTA a @ballandoconlestell...  0.606865   \n",
       "2497  🇬🇧💖. Email for inquires : emilykmorton@hotmail...  0.634846   \n",
       "2498  Flock. A visual artists agency.\\nGo follow us ...  0.606913   \n",
       "2499  Millionaire's Life Strategist, #1 Best-Selling...  0.672418   \n",
       "2500       Office 365, Continuous Improvement and more!  0.606731   \n",
       "\n",
       "                                                   text  newsworthy_score  \n",
       "0     Turisteando (@ Piccadilly Circus in London, Gr...          0.000000  \n",
       "1     Less perfection, more authenticity  purrrrrr :...          5.516974  \n",
       "2     Mastercard is hiring in England! Read about ou...          0.000000  \n",
       "3     #sunset #SouthLondon \\n#سبحان_الله @ Crystal P...          1.853100  \n",
       "4     What a beautiful setting designed by @stevegia...          3.684540  \n",
       "...                                                 ...               ...  \n",
       "2496  London ️ @ London, United Kingdom https://t.co...          3.673356  \n",
       "2497  Felt cute might delete later  wearing @inthest...          1.921363  \n",
       "2498  Joseph Ford - Arnold Worldwide  https://t.co/o...          1.836822  \n",
       "2499  Just posted a photo @ Luli's Barbers https://t...          4.070151  \n",
       "2500  I'm at London Liverpool Street Railway Station...          1.836271  \n",
       "\n",
       "[2501 rows x 6 columns]"
      ]
     },
     "execution_count": 50,
     "metadata": {},
     "output_type": "execute_result"
    }
   ],
   "source": [
    "high_quality_tweets_df"
   ]
  },
  {
   "cell_type": "code",
   "execution_count": 51,
   "metadata": {
    "colab": {
     "base_uri": "https://localhost:8080/",
     "height": 424
    },
    "id": "YQ-wTi1-cLEi",
    "outputId": "62c6ad72-337e-493f-af59-ba0eefdd0bb0"
   },
   "outputs": [
    {
     "data": {
      "text/html": [
       "<div>\n",
       "<style scoped>\n",
       "    .dataframe tbody tr th:only-of-type {\n",
       "        vertical-align: middle;\n",
       "    }\n",
       "\n",
       "    .dataframe tbody tr th {\n",
       "        vertical-align: top;\n",
       "    }\n",
       "\n",
       "    .dataframe thead th {\n",
       "        text-align: right;\n",
       "    }\n",
       "</style>\n",
       "<table border=\"1\" class=\"dataframe\">\n",
       "  <thead>\n",
       "    <tr style=\"text-align: right;\">\n",
       "      <th></th>\n",
       "      <th>_id</th>\n",
       "      <th>username</th>\n",
       "      <th>description</th>\n",
       "      <th>qualityS</th>\n",
       "      <th>text</th>\n",
       "      <th>newsworthy_score</th>\n",
       "    </tr>\n",
       "  </thead>\n",
       "  <tbody>\n",
       "    <tr>\n",
       "      <th>0</th>\n",
       "      <td>{'$oid': '623dbef7462d56a90e36b221'}</td>\n",
       "      <td>tobythereactive</td>\n",
       "      <td>IG: The_Champagne_Shepherd Model ☀ Influencer ...</td>\n",
       "      <td>0.466228</td>\n",
       "      <td>Just posted a photo @ London, United Kingdom h...</td>\n",
       "      <td>3.080135</td>\n",
       "    </tr>\n",
       "    <tr>\n",
       "      <th>1</th>\n",
       "      <td>{'$oid': '623dc550462d56a90e36b284'}</td>\n",
       "      <td>tobythereactive</td>\n",
       "      <td>IG: The_Champagne_Shepherd Model ☀ Influencer ...</td>\n",
       "      <td>0.466228</td>\n",
       "      <td>Just posted a photo @ London, United Kingdom h...</td>\n",
       "      <td>3.080135</td>\n",
       "    </tr>\n",
       "    <tr>\n",
       "      <th>2</th>\n",
       "      <td>{'$oid': '623dc9b9462d56a90e36b2da'}</td>\n",
       "      <td>tobythereactive</td>\n",
       "      <td>IG: The_Champagne_Shepherd Model ☀ Influencer ...</td>\n",
       "      <td>0.466228</td>\n",
       "      <td>Just posted a photo @ King George's Park https...</td>\n",
       "      <td>3.080135</td>\n",
       "    </tr>\n",
       "    <tr>\n",
       "      <th>3</th>\n",
       "      <td>{'$oid': '623ddb4b462d56a90e36b3ff'}</td>\n",
       "      <td>tobythereactive</td>\n",
       "      <td>IG: The_Champagne_Shepherd Model ☀ Influencer ...</td>\n",
       "      <td>0.462884</td>\n",
       "      <td>Just posted a photo @ Fleet Street https://t.c...</td>\n",
       "      <td>3.058041</td>\n",
       "    </tr>\n",
       "    <tr>\n",
       "      <th>4</th>\n",
       "      <td>{'$oid': '623ddc74462d56a90e36b418'}</td>\n",
       "      <td>thecyclonenews</td>\n",
       "      <td>News you can rely on. Juicy, fast and first! W...</td>\n",
       "      <td>0.472576</td>\n",
       "      <td>@originalkoffee new album #gifted will be out ...</td>\n",
       "      <td>1.561036</td>\n",
       "    </tr>\n",
       "    <tr>\n",
       "      <th>...</th>\n",
       "      <td>...</td>\n",
       "      <td>...</td>\n",
       "      <td>...</td>\n",
       "      <td>...</td>\n",
       "      <td>...</td>\n",
       "      <td>...</td>\n",
       "    </tr>\n",
       "    <tr>\n",
       "      <th>1522</th>\n",
       "      <td>{'$oid': '63cb0d7d309f394545960bdd'}</td>\n",
       "      <td>alanmacmillion</td>\n",
       "      <td>I am a thinker whose sole goal is to help the ...</td>\n",
       "      <td>0.456584</td>\n",
       "      <td>When your labrador won't take his medicine ..y...</td>\n",
       "      <td>3.016418</td>\n",
       "    </tr>\n",
       "    <tr>\n",
       "      <th>1523</th>\n",
       "      <td>{'$oid': '63cb0e9b309f394545960be5'}</td>\n",
       "      <td>SofiaJeweleryCo</td>\n",
       "      <td>Hardwork, dedication, &amp; love. Thoughtful busin...</td>\n",
       "      <td>0.439353</td>\n",
       "      <td>Just posted a photo @ London, United Kingdom h...</td>\n",
       "      <td>2.902587</td>\n",
       "    </tr>\n",
       "    <tr>\n",
       "      <th>1524</th>\n",
       "      <td>{'$oid': '63cb0eaa309f394545960be7'}</td>\n",
       "      <td>SofiaJeweleryCo</td>\n",
       "      <td>Hardwork, dedication, &amp; love. Thoughtful busin...</td>\n",
       "      <td>0.439353</td>\n",
       "      <td>Just posted a photo @ London, United Kingdom h...</td>\n",
       "      <td>2.902587</td>\n",
       "    </tr>\n",
       "    <tr>\n",
       "      <th>1525</th>\n",
       "      <td>{'$oid': '63cb0ebb309f394545960bea'}</td>\n",
       "      <td>SofiaJeweleryCo</td>\n",
       "      <td>Hardwork, dedication, &amp; love. Thoughtful busin...</td>\n",
       "      <td>0.439353</td>\n",
       "      <td>Just posted a photo @ London, United Kingdom h...</td>\n",
       "      <td>2.902587</td>\n",
       "    </tr>\n",
       "    <tr>\n",
       "      <th>1526</th>\n",
       "      <td>{'$oid': '63cb1177309f394545960c04'}</td>\n",
       "      <td>alanmacmillion</td>\n",
       "      <td>I am a thinker whose sole goal is to help the ...</td>\n",
       "      <td>0.456740</td>\n",
       "      <td>After Hari had his operation yesterday they sa...</td>\n",
       "      <td>4.526179</td>\n",
       "    </tr>\n",
       "  </tbody>\n",
       "</table>\n",
       "<p>1527 rows × 6 columns</p>\n",
       "</div>"
      ],
      "text/plain": [
       "                                       _id         username  \\\n",
       "0     {'$oid': '623dbef7462d56a90e36b221'}  tobythereactive   \n",
       "1     {'$oid': '623dc550462d56a90e36b284'}  tobythereactive   \n",
       "2     {'$oid': '623dc9b9462d56a90e36b2da'}  tobythereactive   \n",
       "3     {'$oid': '623ddb4b462d56a90e36b3ff'}  tobythereactive   \n",
       "4     {'$oid': '623ddc74462d56a90e36b418'}   thecyclonenews   \n",
       "...                                    ...              ...   \n",
       "1522  {'$oid': '63cb0d7d309f394545960bdd'}   alanmacmillion   \n",
       "1523  {'$oid': '63cb0e9b309f394545960be5'}  SofiaJeweleryCo   \n",
       "1524  {'$oid': '63cb0eaa309f394545960be7'}  SofiaJeweleryCo   \n",
       "1525  {'$oid': '63cb0ebb309f394545960bea'}  SofiaJeweleryCo   \n",
       "1526  {'$oid': '63cb1177309f394545960c04'}   alanmacmillion   \n",
       "\n",
       "                                            description  qualityS  \\\n",
       "0     IG: The_Champagne_Shepherd Model ☀ Influencer ...  0.466228   \n",
       "1     IG: The_Champagne_Shepherd Model ☀ Influencer ...  0.466228   \n",
       "2     IG: The_Champagne_Shepherd Model ☀ Influencer ...  0.466228   \n",
       "3     IG: The_Champagne_Shepherd Model ☀ Influencer ...  0.462884   \n",
       "4     News you can rely on. Juicy, fast and first! W...  0.472576   \n",
       "...                                                 ...       ...   \n",
       "1522  I am a thinker whose sole goal is to help the ...  0.456584   \n",
       "1523  Hardwork, dedication, & love. Thoughtful busin...  0.439353   \n",
       "1524  Hardwork, dedication, & love. Thoughtful busin...  0.439353   \n",
       "1525  Hardwork, dedication, & love. Thoughtful busin...  0.439353   \n",
       "1526  I am a thinker whose sole goal is to help the ...  0.456740   \n",
       "\n",
       "                                                   text  newsworthy_score  \n",
       "0     Just posted a photo @ London, United Kingdom h...          3.080135  \n",
       "1     Just posted a photo @ London, United Kingdom h...          3.080135  \n",
       "2     Just posted a photo @ King George's Park https...          3.080135  \n",
       "3     Just posted a photo @ Fleet Street https://t.c...          3.058041  \n",
       "4     @originalkoffee new album #gifted will be out ...          1.561036  \n",
       "...                                                 ...               ...  \n",
       "1522  When your labrador won't take his medicine ..y...          3.016418  \n",
       "1523  Just posted a photo @ London, United Kingdom h...          2.902587  \n",
       "1524  Just posted a photo @ London, United Kingdom h...          2.902587  \n",
       "1525  Just posted a photo @ London, United Kingdom h...          2.902587  \n",
       "1526  After Hari had his operation yesterday they sa...          4.526179  \n",
       "\n",
       "[1527 rows x 6 columns]"
      ]
     },
     "execution_count": 51,
     "metadata": {},
     "output_type": "execute_result"
    }
   ],
   "source": [
    "low_quality_tweets_df"
   ]
  },
  {
   "cell_type": "code",
   "execution_count": 52,
   "metadata": {},
   "outputs": [
    {
     "data": {
      "image/png": "[encoded data removed]",
      "text/plain": [
       "<Figure size 1000x600 with 1 Axes>"
      ]
     },
     "metadata": {},
     "output_type": "display_data"
    }
   ],
   "source": [
    "\n",
    "# Plotting the distribution of newsworthy scores\n",
    "plt.figure(figsize=(10, 6))\n",
    "\n",
    "# Plotting high-quality tweets\n",
    "plt.hist(high_quality_tweets_df['newsworthy_score'], bins=50, alpha=0.75, color='dodgerblue', label='High Quality', edgecolor='black')\n",
    "\n",
    "# Plotting low-quality tweets\n",
    "plt.hist(low_quality_tweets_df['newsworthy_score'], bins=50, alpha=0.75, color='crimson', label='Low Quality', edgecolor='black')\n",
    "\n",
    "# Adding title and labels\n",
    "plt.title('Distribution of Newsworthy Scores: High Quality vs. Low Quality Tweets', fontsize=14)\n",
    "plt.xlabel('Newsworthy Score', fontsize=12)\n",
    "plt.ylabel('Number of Tweets', fontsize=12)\n",
    "\n",
    "# Adding legend and grid\n",
    "plt.legend(loc='upper right', fontsize=10)\n",
    "plt.grid(color='grey', linestyle='--', linewidth=0.5, alpha=0.5)\n",
    "\n",
    "# Adjusting layout\n",
    "plt.tight_layout()\n",
    "\n",
    "# Displaying the plot\n",
    "plt.show()\n"
   ]
  },
  {
   "cell_type": "markdown",
   "metadata": {
    "id": "Ae868GIX6tfK"
   },
   "source": [
    "### **Question (iii)**"
   ]
  },
  {
   "cell_type": "markdown",
   "metadata": {
    "id": "OGXlxNUs7Xtq"
   },
   "source": [
    "Use the above newsworthy scoring techniques to analyse the geo-tagged data set given (i) and discuss the results.\n"
   ]
  },
  {
   "cell_type": "code",
   "execution_count": 53,
   "metadata": {
    "colab": {
     "base_uri": "https://localhost:8080/"
    },
    "id": "GXLghwgm7xaS",
    "outputId": "4b35d22c-02da-4225-d68d-fe743db546e2"
   },
   "outputs": [
    {
     "name": "stdout",
     "output_type": "stream",
     "text": [
      "C:\\Users\\Simran\\Desktop\\neccchv\\Simran\\data\\datajson\n"
     ]
    }
   ],
   "source": [
    "%cd C:\\Users\\Simran\\Desktop\\neccchv\\Simran\\data\\datajson"
   ]
  },
  {
   "cell_type": "code",
   "execution_count": 54,
   "metadata": {},
   "outputs": [],
   "source": [
    "\n",
    "import pandas as pd\n",
    "from nltk.tokenize import word_tokenize\n",
    "from nltk.corpus import stopwords\n",
    "from nltk.stem import PorterStemmer\n",
    "from collections import Counter\n",
    "import matplotlib.pyplot as plt\n"
   ]
  },
  {
   "cell_type": "code",
   "execution_count": 55,
   "metadata": {},
   "outputs": [
    {
     "name": "stderr",
     "output_type": "stream",
     "text": [
      "[nltk_data] Downloading package punkt to\n",
      "[nltk_data]     C:\\Users\\Simran\\AppData\\Roaming\\nltk_data...\n",
      "[nltk_data]   Package punkt is already up-to-date!\n",
      "[nltk_data] Downloading package stopwords to\n",
      "[nltk_data]     C:\\Users\\Simran\\AppData\\Roaming\\nltk_data...\n",
      "[nltk_data]   Package stopwords is already up-to-date!\n"
     ]
    },
    {
     "data": {
      "text/plain": [
       "True"
      ]
     },
     "execution_count": 55,
     "metadata": {},
     "output_type": "execute_result"
    }
   ],
   "source": [
    "\n",
    "import nltk\n",
    "nltk.download('punkt')\n",
    "nltk.download('stopwords')\n"
   ]
  },
  {
   "cell_type": "code",
   "execution_count": null,
   "metadata": {
    "colab": {
     "base_uri": "https://localhost:8080/"
    },
    "id": "Z1FRrUQaw5BL",
    "outputId": "ade47661-0355-4e1d-d3da-b3a027c8dbba"
   },
   "outputs": [],
   "source": [
    "# Function for data preprocessing\n",
    "def preprocess_text(text):\n",
    "    tokens = word_tokenize(text.lower())\n",
    "    stop_words = set(stopwords.words('english'))\n",
    "    tokens = [token for token in tokens if token not in stop_words]\n",
    "    porter = PorterStemmer()\n",
    "    tokens = [porter.stem(token) for token in tokens]\n",
    "    return tokens\n",
    "\n",
    "# Function to calculate newsworthiness scores\n",
    "def calculate_newsworthiness_score(text, scores, threshold):\n",
    "    tokens = preprocess_text(text)\n",
    "    score = sum(scores.get(token, 0) for token in tokens)\n",
    "    return score >= threshold\n",
    "\n",
    "# Function to calculate term and document frequencies\n",
    "def cal_docterm_freq(tweets_df):\n",
    "    term_freq = Counter()\n",
    "    doc_freq = Counter()\n",
    "\n",
    "    for index, row in tweets_df.iterrows():\n",
    "        tokens = preprocess_text(' '.join(row['text']))\n",
    "        unique_terms = set(tokens)\n",
    "        term_freq.update(tokens)\n",
    "        doc_freq.update(unique_terms)\n",
    "\n",
    "    return term_freq, doc_freq\n",
    "\n",
    "# Calculate term and document frequencies for each dataset\n",
    "term_freq_BG, doc_freq_BG = cal_docterm_freq(background_tweets_df)\n",
    "term_freq_HQ, doc_freq_HQ = cal_docterm_freq(high_quality_tweets_df)\n",
    "term_freq_LQ, doc_freq_LQ = cal_docterm_freq(low_quality_tweets_df)\n",
    "\n",
    "# Define thresholds for considering terms as newsworthy\n",
    "thresholds = [0.5, 1, 2, 3, 4]\n",
    "\n",
    "# Calculate likelihood ratios for high-quality and low-quality models compared to background model\n",
    "RHQ = {}\n",
    "for term, freq in term_freq_HQ.items():\n",
    "    bg_freq = term_freq_BG.get(term, 0)\n",
    "    if bg_freq != 0:\n",
    "        RHQ[term] = (freq / doc_freq_HQ[term]) / (bg_freq / doc_freq_BG[term])\n",
    "    else:\n",
    "        RHQ[term] = 0\n",
    "\n",
    "RLQ = {}\n",
    "for term, freq in term_freq_LQ.items():\n",
    "    bg_freq = term_freq_BG.get(term, 0)\n",
    "    if bg_freq != 0:\n",
    "        RLQ[term] = (freq / doc_freq_LQ[term]) / (bg_freq / doc_freq_BG[term])\n",
    "    else:\n",
    "        RLQ[term] = 0\n",
    "\n",
    "# Analyze different thresholds\n",
    "for threshold in thresholds:\n",
    "    # Calculate newsworthiness scores for high-quality and low-quality tweets\n",
    "    high_quality_tweets_df['newsworthiness'] = high_quality_tweets_df['text'].apply(lambda text: calculate_newsworthiness_score(text, RHQ, threshold)).astype(int)\n",
    "    low_quality_tweets_df['newsworthiness'] = low_quality_tweets_df['text'].apply(lambda text: calculate_newsworthiness_score(text, RLQ, threshold)).astype(int)\n",
    "\n",
    "# Compute statistics\n",
    "final_tweet_info = len(tweet_info)\n",
    "tweet_in_a_cell = map_network.flatten()\n",
    "mean_tweet_in_a_cell = np.mean(tweet_in_a_cell)\n",
    "median_tweet_in_a_cell = np.median(tweet_in_a_cell)\n",
    "max_tweet_in_a_cell = np.max(tweet_in_a_cell)\n",
    "min_tweet_in_a_cell = np.min(tweet_in_a_cell)\n",
    "\n",
    "# DataFrame for statistics\n",
    "statistics_df = pd.DataFrame({\n",
    "    'Total Tweets': [final_tweet_info],\n",
    "    'Average Tweets per Grid Cell': [mean_tweet_in_a_cell],\n",
    "    'Median Tweets per Grid Cell': [median_tweet_in_a_cell],\n",
    "    'Maximum Tweets in a Grid Cell': [max_tweet_in_a_cell],\n",
    "    'Minimum Tweets in a Grid Cell': [min_tweet_in_a_cell]\n",
    "})\n",
    "\n",
    "# Print statistics DataFrame\n",
    "print(\"\\n\\033[1mSummary of Tweets per Grid Cell:\\033[0m\")\n",
    "display(statistics_df)\n"
   ]
  },
  {
   "cell_type": "code",
   "execution_count": null,
   "metadata": {},
   "outputs": [],
   "source": [
    "# Define statistics labels and values\n",
    "statistics_labels = ['Total Tweets', 'Mean Tweets per Cell', 'Median Tweets per Cell', 'Max Tweets per Cell', 'Min Tweets per Cell']\n",
    "statistics_values = [final_tweet_info, mean_tweet_in_a_cell, median_tweet_in_a_cell, max_tweet_in_a_cell, min_tweet_in_a_cell]\n",
    "\n",
    "# Plotting the statistics using a line chart\n",
    "plt.figure(figsize=(10, 6))\n",
    "plt.plot(statistics_labels, statistics_values, marker='o', linestyle='-', color='b')\n",
    "plt.title('Statistics of Tweet Data', fontsize=14)\n",
    "plt.xlabel('Statistics', fontsize=12)\n",
    "plt.ylabel('Values', fontsize=12)\n",
    "plt.xticks(rotation=45)\n",
    "plt.grid(True, linestyle='--', alpha=0.5)\n",
    "plt.tight_layout()\n",
    "\n",
    "# Display the line chart\n",
    "plt.show()"
   ]
  },
  {
   "cell_type": "markdown",
   "metadata": {
    "id": "C2vtr0UA_fLO"
   },
   "source": [
    "\n",
    "### Discussion of Results and Exploration of Correlations\n",
    "\n",
    "#### In this section, we will delve into the outcomes of the analysis and investigate potential correlations with other factors."
   ]
  },
  {
   "cell_type": "code",
   "execution_count": null,
   "metadata": {},
   "outputs": [],
   "source": [
    "\n",
    "import nltk\n",
    "from nltk.tokenize import word_tokenize\n",
    "from nltk.corpus import stopwords\n",
    "import pandas as pd\n",
    "import geopandas as gpd\n",
    "from shapely.geometry import Point\n"
   ]
  },
  {
   "cell_type": "code",
   "execution_count": null,
   "metadata": {},
   "outputs": [],
   "source": [
    "\n",
    "# Download NLTK resources\n",
    "nltk.download('punkt')\n",
    "nltk.download('stopwords')\n"
   ]
  },
  {
   "cell_type": "code",
   "execution_count": null,
   "metadata": {
    "colab": {
     "base_uri": "https://localhost:8080/"
    },
    "id": "8iFAvG88cLI7",
    "outputId": "de846283-1f9d-4905-868f-6e6dcb853dfe"
   },
   "outputs": [],
   "source": [
    "\n",
    "# Define function to preprocess text\n",
    "def preprocess_text(text):\n",
    "    tokens = word_tokenize(text.lower())  # Tokenize and convert to lowercase\n",
    "    stop_words = set(stopwords.words('english'))  # Get English stop words\n",
    "    tokens = [token for token in tokens if token not in stop_words]  # Remove stop words\n",
    "    processed_text = ' '.join(tokens)  # Join tokens back into a single string\n",
    "    return processed_text\n",
    "\n",
    "# Define function to calculate newsworthiness scores\n",
    "def calculate_newsworthiness_score(text, scores, threshold):\n",
    "    tokens = preprocess_text(text)  # Preprocess text\n",
    "    score = sum(scores.get(token, 0) for token in tokens)  # Calculate score based on predefined scores\n",
    "    return score >= threshold  # Check if score exceeds threshold\n",
    "\n",
    "# Load the geo-tagged tweet dataset\n",
    "data = pd.read_json('updated.json')\n",
    "\n",
    "# Preprocess the text of tweets\n",
    "data['processed_text'] = data['text'].apply(preprocess_text)\n",
    "\n",
    "# Define a function to calculate newsworthiness scores for each tweet\n",
    "def calculate_newsworthiness(tweet_text):\n",
    "    return calculate_newsworthiness_score(tweet_text, RHQ, threshold)\n",
    "\n",
    "# Calculate newsworthiness scores for each tweet\n",
    "data['newsworthiness_score'] = data['processed_text'].apply(calculate_newsworthiness)\n",
    "\n",
    "# Assuming the dataset contains columns 'longitude' and 'latitude' for tweet locations\n",
    "# Create a GeoDataFrame from the tweet data\n",
    "data[['longitude', 'latitude']] = data['coordinates'].apply(lambda x: pd.Series([x[0], x[1]]))\n",
    "geometry = [Point(xy) for xy in zip(data['longitude'], data['latitude'])]\n",
    "geo_data = gpd.GeoDataFrame(data, geometry=geometry)\n"
   ]
  },
  {
   "cell_type": "markdown",
   "metadata": {
    "id": "ERi37feSJ0-m"
   },
   "source": [
    "### The Investigation of tweets with low scores and high scores will be computed"
   ]
  },
  {
   "cell_type": "code",
   "execution_count": null,
   "metadata": {
    "colab": {
     "base_uri": "https://localhost:8080/"
    },
    "id": "j_-q0MgVAP6h",
    "outputId": "763d3817-2144-4ab0-80db-d2ff223126cf"
   },
   "outputs": [],
   "source": [
    "\n",
    "tweets_data = data.copy()\n",
    "# Investigate tweets with low scores\n",
    "low_score_threshold = 0.25  # Define a threshold for low scores\n",
    "low_score_tweets = tweets_data[tweets_data['newsworthiness_score'] < low_score_threshold]\n",
    "\n",
    "# Display number and examples of tweets with low newsworthiness scores\n",
    "print(\"Number of Tweets with Low Newsworthiness Scores:\", len(low_score_tweets))\n",
    "print(\"Example Low Score Tweets:\")\n",
    "display(low_score_tweets[['text', 'newsworthiness_score']].head())\n",
    "\n",
    "# Investigate tweets with high scores\n",
    "high_score_threshold = 0.75  # Define a threshold for high scores\n",
    "high_score_tweets = tweets_data[tweets_data['newsworthiness_score'] > high_score_threshold]\n",
    "\n",
    "# Display number and examples of tweets with high newsworthiness scores\n",
    "print(\"\\nNumber of Tweets with High Newsworthiness Scores:\", len(high_score_tweets))\n",
    "print(\"Example High Score Tweets:\")\n",
    "display(high_score_tweets[['text', 'newsworthiness_score']].head())\n"
   ]
  },
  {
   "cell_type": "markdown",
   "metadata": {
    "id": "fU7fB4RtJ3N2"
   },
   "source": [
    "### Find an appropriate threshold to separate. Furthure more remove tweets with low newsworthy scores"
   ]
  },
  {
   "cell_type": "code",
   "execution_count": null,
   "metadata": {
    "colab": {
     "base_uri": "https://localhost:8080/",
     "height": 1000
    },
    "id": "QO_92rZLAP8p",
    "outputId": "900d64b9-7991-4251-fa21-02faceb312b4"
   },
   "outputs": [],
   "source": [
    "\n",
    "# Calculate the mean and median of newsworthiness scores\n",
    "mean_score = tweets_data['newsworthiness_score'].mean()\n",
    "median_score = tweets_data['newsworthiness_score'].median()\n",
    "\n",
    "# Print the mean and median scores\n",
    "print(\"Mean Newsworthiness Score:\", mean_score)\n",
    "print(\"Median Newsworthiness Score:\", median_score)\n",
    "\n",
    "# Visualize the distribution of newsworthiness scores\n",
    "sns.histplot(tweets_data['newsworthiness_score'], kde=True)\n",
    "plt.title('Distribution of Newsworthiness Scores')\n",
    "plt.xlabel('Newsworthiness Score')\n",
    "plt.ylabel('Frequency')\n",
    "plt.axvline(x=mean_score, color='r', linestyle='--', label='Mean Score')\n",
    "plt.axvline(x=median_score, color='g', linestyle='--', label='Median Score')\n",
    "plt.legend()\n",
    "plt.show()\n",
    "\n",
    "# Filter out tweets with low newsworthy scores\n",
    "# Choose a threshold (e.g., median score)\n",
    "threshold = tweets_data['newsworthiness_score'].mean()\n",
    "\n",
    "# Filter out tweets with low newsworthy scores\n",
    "filtered_tweets = tweets_data[tweets_data['newsworthiness_score'] >= threshold]\n",
    "\n",
    "# Display the filtered tweets as a DataFrame\n",
    "filtered_tweets\n"
   ]
  },
  {
   "cell_type": "markdown",
   "metadata": {
    "id": "etuXzMX6K902"
   },
   "source": [
    "### Supportive information of empirical analysis for threshold justification"
   ]
  },
  {
   "cell_type": "code",
   "execution_count": null,
   "metadata": {
    "colab": {
     "base_uri": "https://localhost:8080/",
     "height": 707
    },
    "id": "q1DcZXvYJjlm",
    "outputId": "4034fa98-ec27-4cc0-c8bd-f32f35e5c98d"
   },
   "outputs": [],
   "source": [
    "\n",
    "# Print descriptive statistics for newsworthiness scores\n",
    "print(\"\\033[1mDescriptive Statistics for Newsworthiness Scores:\\033[0m\")\n",
    "print(data['newsworthiness_score'].describe(), \"\\n\")\n",
    "\n",
    "# Visualize the distribution of newsworthiness scores using a histogram\n",
    "plt.figure(figsize=(8, 6))\n",
    "sns.histplot(data['newsworthiness_score'], kde=True)\n",
    "plt.title(\"Distribution of Newsworthiness Scores\")\n",
    "plt.xlabel(\"Newsworthiness Score\")\n",
    "plt.ylabel(\"Frequency\")\n",
    "plt.show()\n",
    "\n",
    "# Set a threshold for separating high and low newsworthy tweets\n",
    "threshold = 0.5\n",
    "\n",
    "# Filter tweets with high newsworthiness scores\n",
    "high_newsworthy_tweets = data[data['newsworthiness_score'] >= threshold]\n",
    "\n",
    "# Filter tweets with low newsworthiness scores\n",
    "low_newsworthy_tweets = data[data['newsworthiness_score'] < threshold]\n",
    "\n",
    "# Justify the threshold choice\n",
    "print(\"\\nJustification for the threshold:\")\n",
    "print(\"The threshold selection segregates tweets into categories of high and low newsworthiness, informed by an empirical examination of the distribution of newsworthiness scores and domain expertise.\")\n"
   ]
  },
  {
   "cell_type": "markdown",
   "metadata": {
    "id": "K83p1dtxMf7l"
   },
   "source": [
    "### The total statistics of the analysis: "
   ]
  },
  {
   "cell_type": "code",
   "execution_count": null,
   "metadata": {
    "colab": {
     "base_uri": "https://localhost:8080/"
    },
    "id": "Qm0PWFL8MFwN",
    "outputId": "fa87ca22-97e0-4892-b4ae-9a1b2dff00bf"
   },
   "outputs": [],
   "source": [
    "\n",
    "# Calculate the total number of tweets\n",
    "final_tweet_info = len(data)\n",
    "\n",
    "# Determine the distribution of newsworthiness scores\n",
    "newsworthiness_distribution = data['newsworthiness_score'].value_counts()\n",
    "\n",
    "# Set a threshold (e.g., 0.5) to separate tweets into high and low newsworthy categories\n",
    "threshold = 0.5\n",
    "\n",
    "# Count the number of tweets above and below the threshold\n",
    "high_newsworthy_tweets = data[data['newsworthiness_score'] >= threshold]\n",
    "low_newsworthy_tweets = data[data['newsworthiness_score'] < threshold]\n",
    "\n",
    "# Calculate the percentage of removed tweets\n",
    "removed_tweets_percentage = len(low_newsworthy_tweets) / final_tweet_info * 100\n",
    "\n",
    "# Display the statistics\n",
    "print(\"Statistics of the Data:\")\n",
    "print(\"Total number of tweets:\", final_tweet_info)\n",
    "print(\"Distribution of Newsworthiness Scores:\")\n",
    "print(newsworthiness_distribution)\n",
    "print(\"Number of High Newsworthy Tweets (above threshold):\", len(high_newsworthy_tweets))\n",
    "print(\"Number of Low Newsworthy Tweets (below threshold):\", len(low_newsworthy_tweets))\n",
    "print(\"Percentage of Removed Tweets based on Threshold:\", removed_tweets_percentage)\n",
    "\n",
    "# Plot a bar chart for newsworthiness distribution\n",
    "plt.figure(figsize=(8, 6))\n",
    "newsworthiness_distribution.plot(kind='bar', color='skyblue')\n",
    "plt.title(\"Distribution of Newsworthiness Scores\")\n",
    "plt.xlabel(\"Newsworthiness Score\")\n",
    "plt.ylabel(\"Frequency\")\n",
    "plt.grid(True, linestyle='--', alpha=0.7)\n",
    "plt.show()\n"
   ]
  },
  {
   "cell_type": "code",
   "execution_count": null,
   "metadata": {
    "colab": {
     "base_uri": "https://localhost:8080/",
     "height": 964
    },
    "id": "ldCvVYeiMF0l",
    "outputId": "a99adcc1-69d2-4bff-e942-725c1abc118c"
   },
   "outputs": [],
   "source": [
    "data"
   ]
  },
  {
   "cell_type": "markdown",
   "metadata": {
    "id": "KpZ-gqGBNea0"
   },
   "source": [
    "### 3.3 Apply the visualization you created on newsworthy data; Draw the figures/charts and compare them with results in (1). What can we say about the difference?"
   ]
  },
  {
   "cell_type": "code",
   "execution_count": null,
   "metadata": {
    "colab": {
     "base_uri": "https://localhost:8080/",
     "height": 1000
    },
    "id": "HjhXTHFiMF5G",
    "outputId": "69ef36c1-7a07-4223-86cd-b20739ce60c3"
   },
   "outputs": [],
   "source": [
    "import matplotlib.pyplot as plt\n",
    "import seaborn as sns\n",
    "\n",
    "# Filter newsworthy tweets\n",
    "newsworthy_tweets = data[data['newsworthiness_score'] > 0.5]\n",
    "\n",
    "# Extract longitude and latitude from coordinates\n",
    "newsworthy_tweets[['longitude', 'latitude']] = newsworthy_tweets['coordinates'].apply(lambda x: pd.Series([x[0], x[1]]))\n",
    "\n",
    "# Calculate grid dimensions\n",
    "grid_row = int(np.ceil(comp_measure([altitude_1,latitude_2], [altitude_1, alti_4])))\n",
    "grid_col = int(np.ceil(comp_measure([altitude_1,latitude_2], [longitude_3,latitude_2])))\n",
    "new_grid = grid_row * grid_col\n",
    "\n",
    "# Initialize grid map\n",
    "map_network = np.zeros((grid_row, grid_col), dtype=int)\n",
    "\n",
    "# Populate grid map with tweet counts\n",
    "for coordinate in newsworthy_tweets['coordinates']:\n",
    "    matrix_row = int(np.ceil(comp_measure([altitude_1,latitude_2], [altitude_1, coordinate[1]])))\n",
    "    matrix_col = int(np.ceil(comp_measure([altitude_1,latitude_2], [coordinate[0],latitude_2])))\n",
    "    map_network[matrix_row, matrix_col] += 1\n",
    "\n",
    "# Flatten grid map and create DataFrame\n",
    "new_tweetlist = np.ravel(map_network)\n",
    "grid_col = 'Grid'\n",
    "new_tweetcol = 'Tweets count'\n",
    "new_info_df = pd.DataFrame({grid_col: np.arange(1, new_grid + 1), new_tweetcol: new_tweetlist})\n"
   ]
  },
  {
   "cell_type": "code",
   "execution_count": null,
   "metadata": {},
   "outputs": [],
   "source": [
    "\n",
    "# Visualization 1\n",
    "\n",
    "plt.figure(figsize=(12, 6))\n",
    "plt.hist(new_tweetlist, bins=np.max(new_tweetlist), log=True, color='skyblue', label='Tweets Count')\n",
    "plt.title('Distribution of Newsworthy Tweets in 1km x 1km Grid Cells')\n",
    "plt.xlabel('Number of Tweets')\n",
    "plt.ylabel('Number of Grid Cells (in log)')\n",
    "plt.ylim(0, 50)\n",
    "plt.xlim(0, 700)\n",
    "plt.legend()\n",
    "plt.show()\n",
    "\n"
   ]
  },
  {
   "cell_type": "code",
   "execution_count": null,
   "metadata": {},
   "outputs": [],
   "source": [
    "\n",
    "# Visulization 2\n",
    "\n",
    "plt.figure(figsize=(10, 8))\n",
    "map_network_log = np.log(map_network, out=np.zeros_like(map_network, dtype=float), where=(map_network != 0))\n",
    "sns.heatmap(map_network_log, cmap='RdPu', cbar_kws={'label': 'Number of Tweets'})\n",
    "plt.title('Heatmap of Newsworthy Tweets Distribution in London (1km x 1km Grid)')\n",
    "plt.xlabel('Longitude (in log)')\n",
    "plt.ylabel('Latitude (in log)')\n",
    "plt.show()\n"
   ]
  },
  {
   "cell_type": "markdown",
   "metadata": {},
   "source": [
    "## Thank you"
   ]
  },
  {
   "cell_type": "code",
   "execution_count": null,
   "metadata": {},
   "outputs": [],
   "source": []
  }
 ],
 "metadata": {
  "colab": {
   "provenance": []
  },
  "kernelspec": {
   "display_name": "Python 3 (ipykernel)",
   "language": "python",
   "name": "python3"
  },
  "language_info": {
   "codemirror_mode": {
    "name": "ipython",
    "version": 3
   },
   "file_extension": ".py",
   "mimetype": "text/x-python",
   "name": "python",
   "nbconvert_exporter": "python",
   "pygments_lexer": "ipython3",
   "version": "3.11.5"
  }
 },
 "nbformat": 4,
 "nbformat_minor": 1
}
